{
 "cells": [
  {
   "cell_type": "code",
   "execution_count": null,
   "id": "abd573e5",
   "metadata": {},
   "outputs": [],
   "source": [
    "# WIP: Setting up the notebook to run the SciGen baselines"
   ]
  },
  {
   "cell_type": "code",
   "execution_count": null,
   "id": "c9854b28",
   "metadata": {},
   "outputs": [],
   "source": [
    "# Install the requirements\n",
    "! pip install pytorch-lightning==0.8.1\n",
    "! pip install BLEURT==0.0.1\n",
    "! pip install bert-score==0.3.3\n",
    "! pip install sacrebleu==1.4.12\n",
    "! pip install moverscore==1.0.3\n",
    "#! pip install parsimonious==0.8.1"
   ]
  },
  {
   "cell_type": "code",
   "execution_count": 5,
   "id": "fa04b01b",
   "metadata": {},
   "outputs": [
    {
     "ename": "ModuleNotFoundError",
     "evalue": "No module named 'sacrebleu'",
     "output_type": "error",
     "traceback": [
      "\u001b[0;31m---------------------------------------------------------------------------\u001b[0m",
      "\u001b[0;31mModuleNotFoundError\u001b[0m                       Traceback (most recent call last)",
      "\u001b[0;32m/tmp/ipykernel_66025/1391816947.py\u001b[0m in \u001b[0;36m<module>\u001b[0;34m\u001b[0m\n\u001b[1;32m      4\u001b[0m \u001b[0;32mimport\u001b[0m \u001b[0mos\u001b[0m\u001b[0;34m\u001b[0m\u001b[0;34m\u001b[0m\u001b[0m\n\u001b[1;32m      5\u001b[0m \u001b[0msys\u001b[0m\u001b[0;34m.\u001b[0m\u001b[0mpath\u001b[0m\u001b[0;34m.\u001b[0m\u001b[0mappend\u001b[0m\u001b[0;34m(\u001b[0m\u001b[0mos\u001b[0m\u001b[0;34m.\u001b[0m\u001b[0mpath\u001b[0m\u001b[0;34m.\u001b[0m\u001b[0mabspath\u001b[0m\u001b[0;34m(\u001b[0m\u001b[0;34m'../baselines'\u001b[0m\u001b[0;34m)\u001b[0m\u001b[0;34m)\u001b[0m\u001b[0;34m\u001b[0m\u001b[0;34m\u001b[0m\u001b[0m\n\u001b[0;32m----> 6\u001b[0;31m \u001b[0;32mimport\u001b[0m \u001b[0mcallbacks\u001b[0m\u001b[0;34m,\u001b[0m \u001b[0mconvert_json_files\u001b[0m\u001b[0;34m,\u001b[0m \u001b[0mevaluate\u001b[0m\u001b[0;34m,\u001b[0m \u001b[0mlightning_base\u001b[0m\u001b[0;34m,\u001b[0m \u001b[0mtrain_table2text_bart\u001b[0m\u001b[0;34m,\u001b[0m \u001b[0mtrain_table2text_t5\u001b[0m\u001b[0;34m,\u001b[0m \u001b[0mutils\u001b[0m\u001b[0;34m\u001b[0m\u001b[0;34m\u001b[0m\u001b[0m\n\u001b[0m",
      "\u001b[0;32m~/mywork/data2text/scigen/SciGen/baselines/evaluate.py\u001b[0m in \u001b[0;36m<module>\u001b[0;34m\u001b[0m\n\u001b[1;32m      3\u001b[0m \u001b[0;32mfrom\u001b[0m \u001b[0margparse\u001b[0m \u001b[0;32mimport\u001b[0m \u001b[0mArgumentParser\u001b[0m\u001b[0;34m\u001b[0m\u001b[0;34m\u001b[0m\u001b[0m\n\u001b[1;32m      4\u001b[0m \u001b[0;32mimport\u001b[0m \u001b[0mos\u001b[0m\u001b[0;34m\u001b[0m\u001b[0;34m\u001b[0m\u001b[0m\n\u001b[0;32m----> 5\u001b[0;31m \u001b[0;32mimport\u001b[0m \u001b[0msacrebleu\u001b[0m \u001b[0;32mas\u001b[0m \u001b[0mscb\u001b[0m\u001b[0;34m\u001b[0m\u001b[0;34m\u001b[0m\u001b[0m\n\u001b[0m\u001b[1;32m      6\u001b[0m \u001b[0;32mfrom\u001b[0m \u001b[0mmoverscore_v2\u001b[0m \u001b[0;32mimport\u001b[0m \u001b[0mget_idf_dict\u001b[0m\u001b[0;34m,\u001b[0m \u001b[0mword_mover_score\u001b[0m\u001b[0;34m\u001b[0m\u001b[0;34m\u001b[0m\u001b[0m\n\u001b[1;32m      7\u001b[0m \u001b[0;32mfrom\u001b[0m \u001b[0mcollections\u001b[0m \u001b[0;32mimport\u001b[0m \u001b[0mdefaultdict\u001b[0m\u001b[0;34m\u001b[0m\u001b[0;34m\u001b[0m\u001b[0m\n",
      "\u001b[0;31mModuleNotFoundError\u001b[0m: No module named 'sacrebleu'"
     ]
    }
   ],
   "source": [
    "# from ..baselines import *\n",
    "# FIXME This method of importing is a hacky way. Avoid doing this\n",
    "import sys\n",
    "import os\n",
    "sys.path.append(os.path.abspath('../baselines'))\n",
    "import callbacks, convert_json_files, evaluate, lightning_base, train_table2text_bart, train_table2text_t5, utils"
   ]
  },
  {
   "cell_type": "code",
   "execution_count": null,
   "id": "8f43328f",
   "metadata": {},
   "outputs": [],
   "source": []
  }
 ],
 "metadata": {
  "kernelspec": {
   "display_name": "LAB_VENV",
   "language": "python",
   "name": "lab_venv"
  },
  "language_info": {
   "codemirror_mode": {
    "name": "ipython",
    "version": 3
   },
   "file_extension": ".py",
   "mimetype": "text/x-python",
   "name": "python",
   "nbconvert_exporter": "python",
   "pygments_lexer": "ipython3",
   "version": "3.8.10"
  }
 },
 "nbformat": 4,
 "nbformat_minor": 5
}
